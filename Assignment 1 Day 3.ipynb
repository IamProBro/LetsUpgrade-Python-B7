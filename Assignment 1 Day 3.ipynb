{
 "cells": [
  {
   "cell_type": "code",
   "execution_count": 1,
   "metadata": {},
   "outputs": [],
   "source": [
    "# You are a Pilot. You want to land a plane safely. Take Current altitude as input.\n",
    "# If altitude less than 1000ft - O/P is safe to land\n",
    "# Alt = 1000 - 5000, bring it further down\n",
    "# Alt = more than 5000, turn Around"
   ]
  },
  {
   "cell_type": "markdown",
   "metadata": {},
   "source": [
    "# Program"
   ]
  },
  {
   "cell_type": "code",
   "execution_count": 7,
   "metadata": {},
   "outputs": [
    {
     "name": "stdout",
     "output_type": "stream",
     "text": [
      "Enter current altitude of plane - 1000\n",
      "It is safe to land\n"
     ]
    }
   ],
   "source": [
    "alt = input (\"Enter current altitude of plane - \")\n",
    "alt = int(alt)\n",
    "if alt <= 1000:\n",
    "    print(\"It is safe to land\")\n",
    "elif alt > 1000 and alt <= 5000:\n",
    "    print(\"Bring down the altitude more\")\n",
    "else:\n",
    "    print(\"Turn the plane around\")"
   ]
  },
  {
   "cell_type": "code",
   "execution_count": null,
   "metadata": {},
   "outputs": [],
   "source": []
  }
 ],
 "metadata": {
  "kernelspec": {
   "display_name": "Python 3",
   "language": "python",
   "name": "python3"
  },
  "language_info": {
   "codemirror_mode": {
    "name": "ipython",
    "version": 3
   },
   "file_extension": ".py",
   "mimetype": "text/x-python",
   "name": "python",
   "nbconvert_exporter": "python",
   "pygments_lexer": "ipython3",
   "version": "3.7.6"
  }
 },
 "nbformat": 4,
 "nbformat_minor": 4
}
